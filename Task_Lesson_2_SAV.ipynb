{
 "cells": [
  {
   "cell_type": "code",
   "execution_count": 2,
   "metadata": {},
   "outputs": [],
   "source": [
    "from math import factorial\n",
    "import numpy as np"
   ]
  },
  {
   "cell_type": "code",
   "execution_count": 3,
   "metadata": {},
   "outputs": [],
   "source": [
    "def combinations(n, k):\n",
    "    return factorial(n) / (factorial(k) * factorial(n - k))\n",
    "\n",
    "def bernulli(n,k,p):\n",
    "    return combinations(n,k) * p**k * (1 - p)**(n - k)\n",
    "\n",
    "def poisson(n,m,p):\n",
    "    return ((n * p)**(m)) / factorial(m) * np.exp(-n * p)"
   ]
  },
  {
   "cell_type": "code",
   "execution_count": 4,
   "metadata": {},
   "outputs": [],
   "source": [
    "# Задание 1"
   ]
  },
  {
   "cell_type": "code",
   "execution_count": 5,
   "metadata": {},
   "outputs": [],
   "source": [
    "# Вероятность того, что стрелок попадет в мишень, выстрелив один раз, равна 0.8. \n",
    "# Стрелок выстрелил 100 раз. \n",
    "# Найдите вероятность того, что стрелок попадет в цель ровно 85 раз."
   ]
  },
  {
   "cell_type": "code",
   "execution_count": 10,
   "metadata": {},
   "outputs": [
    {
     "name": "stdout",
     "output_type": "stream",
     "text": [
      "4.81%\n"
     ]
    }
   ],
   "source": [
    "shoot_probability = bernulli(100, 85, 0.8)\n",
    "\n",
    "print('{}%'.format(round(shoot_probability * 100, 2)))"
   ]
  },
  {
   "cell_type": "code",
   "execution_count": 11,
   "metadata": {},
   "outputs": [],
   "source": [
    "# Задание 2"
   ]
  },
  {
   "cell_type": "code",
   "execution_count": 12,
   "metadata": {},
   "outputs": [],
   "source": [
    "# Вероятность того, что лампочка перегорит в течение первого дня эксплуатации, равна 0.0004. \n",
    "# В жилом комплексе после ремонта в один день включили 5 000 новых лампочек. \n",
    "# Какова вероятность, что ни одна из них не перегорит в первый день? \n",
    "# Какова вероятность, что перегорят ровно две?"
   ]
  },
  {
   "cell_type": "code",
   "execution_count": 14,
   "metadata": {},
   "outputs": [
    {
     "name": "stdout",
     "output_type": "stream",
     "text": [
      "13.53%\n",
      "27.07%\n"
     ]
    }
   ],
   "source": [
    "zero_lamp_probability = poisson(5000, 0, 0.0004)\n",
    "two_lamp_probability = poisson(5000, 2, 0.0004)\n",
    "\n",
    "print('{}%'.format(round(zero_lamp_probability * 100, 2)))\n",
    "print('{}%'.format(round(two_lamp_probability * 100, 2)))"
   ]
  },
  {
   "cell_type": "code",
   "execution_count": 15,
   "metadata": {},
   "outputs": [],
   "source": [
    "# Задание 3"
   ]
  },
  {
   "cell_type": "code",
   "execution_count": 16,
   "metadata": {},
   "outputs": [],
   "source": [
    "# Монету подбросили 144 раза. \n",
    "# Какова вероятность, что орел выпадет ровно 70 раз?"
   ]
  },
  {
   "cell_type": "code",
   "execution_count": 17,
   "metadata": {},
   "outputs": [
    {
     "name": "stdout",
     "output_type": "stream",
     "text": [
      "6.28%\n"
     ]
    }
   ],
   "source": [
    "avers_probability = bernulli(144, 70, 0.5)\n",
    "\n",
    "print('{}%'.format(round(avers_probability * 100, 2)))"
   ]
  },
  {
   "cell_type": "code",
   "execution_count": 18,
   "metadata": {},
   "outputs": [],
   "source": [
    "# Задание 3"
   ]
  },
  {
   "cell_type": "code",
   "execution_count": 19,
   "metadata": {},
   "outputs": [],
   "source": [
    "# В первом ящике находится 10 мячей, из которых 7 - белые. \n",
    "# Во втором ящике - 11 мячей, из которых 9 белых. \n",
    "# Из каждого ящика вытаскивают случайным образом по два мяча. \n",
    "# Какова вероятность того, что все мячи белые? \n",
    "# Какова вероятность того, что ровно два мяча белые? \n",
    "# Какова вероятность того, что хотя бы один мяч белый?"
   ]
  },
  {
   "cell_type": "code",
   "execution_count": 21,
   "metadata": {},
   "outputs": [
    {
     "name": "stdout",
     "output_type": "stream",
     "text": [
      "30.55%\n",
      "9.03%\n",
      "99.88%\n"
     ]
    }
   ],
   "source": [
    "# Какова вероятность того, что все мячи белые?\n",
    "# выемки из одной коробки - зависимые события\n",
    "all_white_probability = 7/10 * 6/9 * 9/11 * 8/10\n",
    "\n",
    "# Какова вероятность того, что ровно два мяча белые?\n",
    "# 2 из первой и 0 из второй \n",
    "# по одному из первой и второй \n",
    "# 0 из первой и 2 из второй\n",
    "\n",
    "two_white_probability = 7/10 * 6/9 * 2/11 * 1/10 + 7/10 * 3/9 * 9/11 * 2/10 + 3/10 * 2/9 * 9/11 * 8/10\n",
    "\n",
    "# Какова вероятность того, что хотя бы один мяч белый?\n",
    "# Вероятность хотя бы один = 1 - Вероятность ни одного\n",
    "one_at_least_probability = 1 - 3/10 * 2/9 * 2/11 * 1/10\n",
    "\n",
    "print(\"{}%\".format(round(all_white_probability * 100, 2)))\n",
    "print(\"{}%\".format(round(two_white_probability * 100, 2)))\n",
    "print(\"{}%\".format(round(one_at_least_probability * 100, 2)))"
   ]
  }
 ],
 "metadata": {
  "kernelspec": {
   "display_name": "Python 3",
   "language": "python",
   "name": "python3"
  },
  "language_info": {
   "codemirror_mode": {
    "name": "ipython",
    "version": 3
   },
   "file_extension": ".py",
   "mimetype": "text/x-python",
   "name": "python",
   "nbconvert_exporter": "python",
   "pygments_lexer": "ipython3",
   "version": "3.8.5"
  }
 },
 "nbformat": 4,
 "nbformat_minor": 4
}
