{
 "cells": [
  {
   "cell_type": "code",
   "execution_count": 1,
   "metadata": {},
   "outputs": [],
   "source": [
    "from math import sqrt\n",
    "import numpy as np\n",
    "import pandas as pd\n",
    "import scipy.stats as stats"
   ]
  },
  {
   "cell_type": "code",
   "execution_count": 2,
   "metadata": {},
   "outputs": [],
   "source": [
    "# Задание 1"
   ]
  },
  {
   "cell_type": "code",
   "execution_count": 3,
   "metadata": {},
   "outputs": [],
   "source": [
    "# Даны значения величины заработной платы заемщиков банка (zp) и значения их поведенческого кредитного скоринга (ks): zp = [35, 45, 190, 200, 40, 70, 54, 150, 120, 110], ks = [401, 574, 874, 919, 459, 739, 653, 902, 746, 832]. \n",
    "# Используя математические операции, посчитать коэффициенты линейной регрессии, приняв за X заработную плату (то есть, zp - признак), а за y - значения скорингового балла (то есть, ks - целевая переменная). \n",
    "# Произвести расчет как с использованием intercept, так и без."
   ]
  },
  {
   "cell_type": "code",
   "execution_count": 4,
   "metadata": {},
   "outputs": [],
   "source": [
    "n = 10\n",
    "x = np.array([35, 45, 190, 200, 40, 70, 54, 150, 120, 110])\n",
    "y = np.array([401, 574, 874, 919, 459, 739, 653, 902, 746, 832])"
   ]
  },
  {
   "cell_type": "code",
   "execution_count": 5,
   "metadata": {},
   "outputs": [
    {
     "name": "stdout",
     "output_type": "stream",
     "text": [
      "B1_1: 2.620538882402765\n",
      "A1: 444.1773573243596\n"
     ]
    }
   ],
   "source": [
    "# Интерсепт\n",
    "\n",
    "B1_1 = (np.mean(x * y) - (np.mean(x) * np.mean(y))) / (np.mean(x**2) - np.mean(x) ** 2)\n",
    "A1 = np.mean(y) - B1_1 * np.mean(x)\n",
    "print(\"B1_1: {}\".format(B1_1, 2))\n",
    "print(\"A1: {}\".format(A1, 2))"
   ]
  },
  {
   "cell_type": "code",
   "execution_count": 6,
   "metadata": {},
   "outputs": [],
   "source": [
    "# Матричный метод\n",
    "\n",
    "x1 = x.reshape(len(x), 1)\n",
    "y1 = y.reshape(len(y), 1)\n",
    "X1 = np.hstack([np.ones((10,1)), x1])"
   ]
  },
  {
   "cell_type": "code",
   "execution_count": 7,
   "metadata": {},
   "outputs": [
    {
     "name": "stdout",
     "output_type": "stream",
     "text": [
      "B1_1_1: [[444.17735732]\n",
      " [  2.62053888]]\n"
     ]
    }
   ],
   "source": [
    "B1_1_1 = np.dot(np.linalg.inv(np.dot(X1.T,X1)),X1.T@y1)\n",
    "print(\"B1_1_1: {}\".format(B1_1_1, 2))"
   ]
  },
  {
   "cell_type": "code",
   "execution_count": 8,
   "metadata": {},
   "outputs": [
    {
     "name": "stdout",
     "output_type": "stream",
     "text": [
      "B1_1_2: [[444.17735732]\n",
      " [  2.62053888]]\n"
     ]
    }
   ],
   "source": [
    "B1_1_2 = np.linalg.pinv(X1).dot(y1)\n",
    "print(\"B1_1_2: {}\".format(B1_1_2, 2))"
   ]
  },
  {
   "cell_type": "code",
   "execution_count": 9,
   "metadata": {},
   "outputs": [
    {
     "name": "stdout",
     "output_type": "stream",
     "text": [
      "y_hat1: [535.89621821 562.10160703 942.07974498 968.2851338  548.99891262\n",
      " 627.61507909 585.68645697 837.25818968 758.64202321 732.43663439]\n"
     ]
    }
   ],
   "source": [
    "y_hat1 = A1 + (B1_1 * x)\n",
    "print(\"y_hat1: {}\".format(y_hat1, 2))"
   ]
  },
  {
   "cell_type": "code",
   "execution_count": 10,
   "metadata": {},
   "outputs": [
    {
     "name": "stdout",
     "output_type": "stream",
     "text": [
      "mse1: 6470.414201176658\n"
     ]
    }
   ],
   "source": [
    "mse1 = np.mean((y - y_hat1) ** 2)\n",
    "print(\"mse1: {}\".format(mse1, 2))"
   ]
  },
  {
   "cell_type": "code",
   "execution_count": 11,
   "metadata": {},
   "outputs": [],
   "source": [
    "# Без интерсепта"
   ]
  },
  {
   "cell_type": "code",
   "execution_count": 12,
   "metadata": {},
   "outputs": [
    {
     "name": "stdout",
     "output_type": "stream",
     "text": [
      "y_hat2: [ 245.03451677  315.0443787  1330.18737673 1400.19723866  280.03944773\n",
      "  490.06903353  378.05325444 1050.14792899  840.1183432   770.10848126]\n"
     ]
    }
   ],
   "source": [
    "B1_2 = np.mean(y) / np.mean(x)\n",
    "y_hat2 = B1_2 * x\n",
    "print(\"y_hat2: {}\".format(y_hat2, 2))"
   ]
  },
  {
   "cell_type": "code",
   "execution_count": 13,
   "metadata": {},
   "outputs": [
    {
     "name": "stdout",
     "output_type": "stream",
     "text": [
      "mse2: 73526.6800654739\n"
     ]
    },
    {
     "data": {
      "text/html": [
       "<div>\n",
       "<style scoped>\n",
       "    .dataframe tbody tr th:only-of-type {\n",
       "        vertical-align: middle;\n",
       "    }\n",
       "\n",
       "    .dataframe tbody tr th {\n",
       "        vertical-align: top;\n",
       "    }\n",
       "\n",
       "    .dataframe thead th {\n",
       "        text-align: right;\n",
       "    }\n",
       "</style>\n",
       "<table border=\"1\" class=\"dataframe\">\n",
       "  <thead>\n",
       "    <tr style=\"text-align: right;\">\n",
       "      <th></th>\n",
       "      <th>x</th>\n",
       "      <th>y</th>\n",
       "      <th>y_hat1</th>\n",
       "      <th>y_hat2</th>\n",
       "    </tr>\n",
       "  </thead>\n",
       "  <tbody>\n",
       "    <tr>\n",
       "      <th>0</th>\n",
       "      <td>35</td>\n",
       "      <td>401</td>\n",
       "      <td>535.896218</td>\n",
       "      <td>245.034517</td>\n",
       "    </tr>\n",
       "    <tr>\n",
       "      <th>1</th>\n",
       "      <td>45</td>\n",
       "      <td>574</td>\n",
       "      <td>562.101607</td>\n",
       "      <td>315.044379</td>\n",
       "    </tr>\n",
       "    <tr>\n",
       "      <th>2</th>\n",
       "      <td>190</td>\n",
       "      <td>874</td>\n",
       "      <td>942.079745</td>\n",
       "      <td>1330.187377</td>\n",
       "    </tr>\n",
       "    <tr>\n",
       "      <th>3</th>\n",
       "      <td>200</td>\n",
       "      <td>919</td>\n",
       "      <td>968.285134</td>\n",
       "      <td>1400.197239</td>\n",
       "    </tr>\n",
       "    <tr>\n",
       "      <th>4</th>\n",
       "      <td>40</td>\n",
       "      <td>459</td>\n",
       "      <td>548.998913</td>\n",
       "      <td>280.039448</td>\n",
       "    </tr>\n",
       "    <tr>\n",
       "      <th>5</th>\n",
       "      <td>70</td>\n",
       "      <td>739</td>\n",
       "      <td>627.615079</td>\n",
       "      <td>490.069034</td>\n",
       "    </tr>\n",
       "    <tr>\n",
       "      <th>6</th>\n",
       "      <td>54</td>\n",
       "      <td>653</td>\n",
       "      <td>585.686457</td>\n",
       "      <td>378.053254</td>\n",
       "    </tr>\n",
       "    <tr>\n",
       "      <th>7</th>\n",
       "      <td>150</td>\n",
       "      <td>902</td>\n",
       "      <td>837.258190</td>\n",
       "      <td>1050.147929</td>\n",
       "    </tr>\n",
       "    <tr>\n",
       "      <th>8</th>\n",
       "      <td>120</td>\n",
       "      <td>746</td>\n",
       "      <td>758.642023</td>\n",
       "      <td>840.118343</td>\n",
       "    </tr>\n",
       "    <tr>\n",
       "      <th>9</th>\n",
       "      <td>110</td>\n",
       "      <td>832</td>\n",
       "      <td>732.436634</td>\n",
       "      <td>770.108481</td>\n",
       "    </tr>\n",
       "  </tbody>\n",
       "</table>\n",
       "</div>"
      ],
      "text/plain": [
       "     x    y      y_hat1       y_hat2\n",
       "0   35  401  535.896218   245.034517\n",
       "1   45  574  562.101607   315.044379\n",
       "2  190  874  942.079745  1330.187377\n",
       "3  200  919  968.285134  1400.197239\n",
       "4   40  459  548.998913   280.039448\n",
       "5   70  739  627.615079   490.069034\n",
       "6   54  653  585.686457   378.053254\n",
       "7  150  902  837.258190  1050.147929\n",
       "8  120  746  758.642023   840.118343\n",
       "9  110  832  732.436634   770.108481"
      ]
     },
     "execution_count": 13,
     "metadata": {},
     "output_type": "execute_result"
    }
   ],
   "source": [
    "# Матричный метод\n",
    "\n",
    "x2 = x.reshape(len(x), 1)\n",
    "y2 = y.reshape(len(y), 1)\n",
    "B1_2_1 = np.dot(np.linalg.inv(np.dot(x2.T,x2)),x2.T@y2)\n",
    "B1_2_2 = np.linalg.pinv(x2).dot(y2)\n",
    "mse2 = np.mean((y - y_hat2) ** 2)\n",
    "print(\"mse2: {}\".format(mse2, 2))\n",
    "df = pd.DataFrame({'x': x, 'y': y, 'y_hat1': y_hat1, 'y_hat2': y_hat2}, columns=['x', 'y', 'y_hat1', 'y_hat2'])\n",
    "df"
   ]
  },
  {
   "cell_type": "code",
   "execution_count": 14,
   "metadata": {},
   "outputs": [],
   "source": [
    "# Задание 2"
   ]
  },
  {
   "cell_type": "code",
   "execution_count": 15,
   "metadata": {},
   "outputs": [],
   "source": [
    "# Посчитать коэффициент линейной регрессии при заработной плате (zp), используя градиентный спуск (без intercept). "
   ]
  },
  {
   "cell_type": "code",
   "execution_count": 16,
   "metadata": {},
   "outputs": [
    {
     "name": "stdout",
     "output_type": "stream",
     "text": [
      "alpha: 1e-06\n",
      "Iteration: 0, B1=0.25952808, mse=493237.7212546963\n",
      "Iteration: 500, B1=5.889815595583751, mse=56516.858416040064\n",
      "Iteration: 1000, B1=5.8898204201285544, mse=56516.85841571941\n",
      "Iteration: 1500, B1=5.889820420132673, mse=56516.85841571943\n",
      "Iteration: 2000, B1=5.889820420132673, mse=56516.85841571943\n",
      "Iteration: 2500, B1=5.889820420132673, mse=56516.85841571943\n"
     ]
    }
   ],
   "source": [
    "alpha = 1e-6\n",
    "print(\"alpha: {}\".format(alpha, 2))\n",
    "B1 = 0.1\n",
    "for i in range(3000):\n",
    "    B1 -= alpha*(2 / n) * np.sum((B1 * x - y) * x)\n",
    "    if i%500 == 0:\n",
    "        print('Iteration: {i}, B1={B1}, mse={mse}'.format(i=i, B1=B1, mse=np.mean((B1 * x - y)**2)))"
   ]
  },
  {
   "cell_type": "code",
   "execution_count": 17,
   "metadata": {},
   "outputs": [],
   "source": [
    "# Задание 3"
   ]
  },
  {
   "cell_type": "code",
   "execution_count": 18,
   "metadata": {},
   "outputs": [],
   "source": [
    "# Произвести вычисления как в пункте 2, но с вычислением intercept. \n",
    "# Учесть, что изменение коэффициентов должно производиться на каждом шаге одновременно \n",
    "# (то есть изменение одного коэффициента не должно влиять на изменение другого во время одной итерации)."
   ]
  },
  {
   "cell_type": "code",
   "execution_count": 19,
   "metadata": {},
   "outputs": [
    {
     "name": "stdout",
     "output_type": "stream",
     "text": [
      "alpha: 5e-06\n",
      "B0=0.10699660000000001, B1=0.8975390000000001, mse=399736.8945969929\n",
      "B0=319.2611919366344, B1=3.53997708826565, mse=10428.613732861277\n",
      "B0=409.0357653850931, B1=2.8791965360660576, mse=6783.672985320853\n",
      "B0=434.291275085185, B1=2.693304818571127, mse=6495.206045311317\n",
      "B0=441.39619071675355, B1=2.6410094982591366, mse=6472.376270771214\n",
      "B0=443.39495560929134, B1=2.6262977049453364, mse=6470.569482771402\n",
      "B0=443.95725096967476, B1=2.622158962487855, mse=6470.42649043171\n"
     ]
    }
   ],
   "source": [
    "alpha = 5e-6\n",
    "print(\"alpha: {}\".format(alpha, 2))\n",
    "\n",
    "def mse_(B0, B1, y, x, n):\n",
    "    return np.sum((B0 + B1 * x - y)**2) / n\n",
    "\n",
    "n = 10\n",
    "x = np.array([35, 45, 190, 200, 40, 70, 54, 150, 120, 110])\n",
    "y = np.array([401, 574, 874, 919, 459, 739, 653, 902, 746, 832])\n",
    "\n",
    "B0 = 0.1\n",
    "B1 = 0.1\n",
    "\n",
    "for i in range(3500000):\n",
    "    y_pred = B0 + B1*x\n",
    "    B0 -= alpha * (2 / n) * np.sum(y_pred - y)\n",
    "    B1 -= alpha * (2 / n) * np.sum((y_pred - y) * x)\n",
    "    if i % 500000 == 0:\n",
    "        print('B0={B0}, B1={B1}, mse={mse}'.format(B0=B0, B1=B1, mse=mse_(B0, B1, y, x, n)))"
   ]
  }
 ],
 "metadata": {
  "kernelspec": {
   "display_name": "Python 3",
   "language": "python",
   "name": "python3"
  },
  "language_info": {
   "codemirror_mode": {
    "name": "ipython",
    "version": 3
   },
   "file_extension": ".py",
   "mimetype": "text/x-python",
   "name": "python",
   "nbconvert_exporter": "python",
   "pygments_lexer": "ipython3",
   "version": "3.8.5"
  }
 },
 "nbformat": 4,
 "nbformat_minor": 4
}
