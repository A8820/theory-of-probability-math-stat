{
 "cells": [
  {
   "cell_type": "code",
   "execution_count": 22,
   "metadata": {},
   "outputs": [],
   "source": [
    "from math import sqrt\n",
    "import numpy as np"
   ]
  },
  {
   "cell_type": "code",
   "execution_count": 23,
   "metadata": {},
   "outputs": [],
   "source": [
    "# Задание 1"
   ]
  },
  {
   "cell_type": "code",
   "execution_count": 24,
   "metadata": {},
   "outputs": [],
   "source": [
    "# Известно, что генеральная совокупность распределена нормально со средним квадратическим отклонением, равным 16. \n",
    "# Найти доверительный интервал для оценки математического ожидания a с надежностью 0.95, если выборочная средняя M = 80, \n",
    "# а объем выборки n = 256."
   ]
  },
  {
   "cell_type": "code",
   "execution_count": 25,
   "metadata": {},
   "outputs": [
    {
     "name": "stdout",
     "output_type": "stream",
     "text": [
      "Доверительный интервал для оценки математического ожидания a с надежностью 0.95: [78.04, 81.96]\n"
     ]
    }
   ],
   "source": [
    "sigma = 16\n",
    "z = 1.96\n",
    "M = 80\n",
    "n = 256\n",
    "interval_left = M - 1.96 * sigma / sqrt(n)\n",
    "interval_right = M + 1.96 * sigma / sqrt(n)\n",
    "interval = [interval_left, interval_right]\n",
    "\n",
    "print(\"Доверительный интервал для оценки математического ожидания a с надежностью 0.95: {}\".format(interval, 2))"
   ]
  },
  {
   "cell_type": "code",
   "execution_count": 26,
   "metadata": {},
   "outputs": [],
   "source": [
    "# Задание 2"
   ]
  },
  {
   "cell_type": "code",
   "execution_count": 27,
   "metadata": {},
   "outputs": [],
   "source": [
    "# В результате 10 независимых измерений некоторой величины X, выполненных с одинаковой точностью, получены опытные данные: \n",
    "# 6.9, 6.1, 6.2, 6.8, 7.5, 6.3, 6.4, 6.9, 6.7, 6.1 \n",
    "# Предполагая, что результаты измерений подчинены нормальному закону распределения вероятностей, \n",
    "# оценить истинное значение величины X при помощи доверительного интервала, \n",
    "# покрывающего это значение с доверительной вероятностью 0,95. "
   ]
  },
  {
   "cell_type": "code",
   "execution_count": 28,
   "metadata": {},
   "outputs": [
    {
     "name": "stdout",
     "output_type": "stream",
     "text": [
      "Истинное значение X при доверительном интервале 0,95: [6.267538255912426, 6.912461744087575]\n"
     ]
    }
   ],
   "source": [
    "x = [6.9, 6.1, 6.2, 6.8, 7.5, 6.3, 6.4, 6.9, 6.7, 6.1]\n",
    "M = np.mean(x)\n",
    "sigma = np.std(x, ddof=1)\n",
    "t = 2.262\n",
    "interval_left = M - t * sigma / sqrt(len(x))\n",
    "interval_right = M + t * sigma / sqrt(len(x))\n",
    "interval = [interval_left, interval_right]\n",
    "\n",
    "print(\"Истинное значение X при доверительном интервале 0,95: {}\".format(interval, 2))"
   ]
  },
  {
   "cell_type": "code",
   "execution_count": 29,
   "metadata": {},
   "outputs": [],
   "source": [
    "# Задание 3"
   ]
  },
  {
   "cell_type": "code",
   "execution_count": 30,
   "metadata": {},
   "outputs": [],
   "source": [
    "# Утверждается, что шарики для подшипников, изготовленные автоматическим станком, имеют средний диаметр 17 мм. \n",
    "# Используя односторонний критерий с α = 0,05, проверить эту гипотезу, если в выборке из n = 100 шариков \n",
    "# средний диаметр оказался равным 17.5 мм, а дисперсия известна и равна 4 кв.мм."
   ]
  },
  {
   "cell_type": "code",
   "execution_count": 31,
   "metadata": {},
   "outputs": [
    {
     "name": "stdout",
     "output_type": "stream",
     "text": [
      "2.5\n"
     ]
    }
   ],
   "source": [
    "m0 = 17\n",
    "Xm = 17.5\n",
    "D = 4\n",
    "n = 100\n",
    "Zk = 1.645\n",
    "Zn = (Xm - m0) / (sqrt(D) / sqrt(n))\n",
    "\n",
    "print(round(Zn, 2))"
   ]
  },
  {
   "cell_type": "code",
   "execution_count": 32,
   "metadata": {},
   "outputs": [],
   "source": [
    "# Z наблюдаемое не упало в область гипотезы H0, H0 не верна на уровне значимости 5%"
   ]
  },
  {
   "cell_type": "code",
   "execution_count": 33,
   "metadata": {},
   "outputs": [],
   "source": [
    "# Задание 4"
   ]
  },
  {
   "cell_type": "code",
   "execution_count": 34,
   "metadata": {},
   "outputs": [],
   "source": [
    "# Продавец утверждает, что средний вес пачки печенья составляет 200 г. \n",
    "# Из партии извлечена выборка из 10 пачек. \n",
    "# Вес каждой пачки составляет: 202, 203, 199, 197, 195, 201, 200, 204, 194, 190. \n",
    "# Известно, что их веса распределены нормально. \n",
    "# Верно ли утверждение продавца, если учитывать, что доверительная вероятность равна 99%?"
   ]
  },
  {
   "cell_type": "code",
   "execution_count": 35,
   "metadata": {},
   "outputs": [
    {
     "name": "stdout",
     "output_type": "stream",
     "text": [
      "-1.07\n"
     ]
    }
   ],
   "source": [
    "m0 = 200\n",
    "x = [202, 203, 199, 197, 195, 201, 200, 204, 194, 190]\n",
    "sigma = np.std(x, ddof=1)\n",
    "Xm = np.mean(x)\n",
    "n = len(x)\n",
    "i_right = 3.250\n",
    "i_left = -3.250\n",
    "Zn = (Xm - m0) / (sigma / sqrt(n))\n",
    "\n",
    "print(round(Zn, 2))"
   ]
  },
  {
   "cell_type": "code",
   "execution_count": 36,
   "metadata": {},
   "outputs": [],
   "source": [
    "# Z наблюдаемое упало в область гипотезы H0, следовательно H0 верна на уровне значимости 1%"
   ]
  }
 ],
 "metadata": {
  "kernelspec": {
   "display_name": "Python 3",
   "language": "python",
   "name": "python3"
  },
  "language_info": {
   "codemirror_mode": {
    "name": "ipython",
    "version": 3
   },
   "file_extension": ".py",
   "mimetype": "text/x-python",
   "name": "python",
   "nbconvert_exporter": "python",
   "pygments_lexer": "ipython3",
   "version": "3.8.5"
  }
 },
 "nbformat": 4,
 "nbformat_minor": 4
}
