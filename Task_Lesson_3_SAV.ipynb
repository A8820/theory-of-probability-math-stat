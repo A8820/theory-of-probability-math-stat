{
 "cells": [
  {
   "cell_type": "code",
   "execution_count": 1,
   "metadata": {},
   "outputs": [],
   "source": [
    "from math import factorial\n",
    "from math import sqrt\n",
    "import numpy as np"
   ]
  },
  {
   "cell_type": "code",
   "execution_count": 2,
   "metadata": {},
   "outputs": [],
   "source": [
    "def combinations(n, k):\n",
    "    return factorial(n) / (factorial(k) * factorial(n - k))"
   ]
  },
  {
   "cell_type": "code",
   "execution_count": 3,
   "metadata": {},
   "outputs": [],
   "source": [
    "# Задание 1"
   ]
  },
  {
   "cell_type": "code",
   "execution_count": 4,
   "metadata": {},
   "outputs": [],
   "source": [
    "# Даны значения зарплат из выборки выпускников: 100, 80, 75, 77, 89, 33, 45, 25, 65, 17, 30, 24, 57, 55, 70, 75, 65, 84, 90, 150. \n",
    "# Посчитать (желательно без использования статистических методов наподобие std, var, mean) среднее арифметическое, \n",
    "# среднее квадратичное отклонение, смещенную и несмещенную оценки дисперсий для данной выборки."
   ]
  },
  {
   "cell_type": "code",
   "execution_count": 5,
   "metadata": {},
   "outputs": [],
   "source": [
    "# Среднее арифметическое"
   ]
  },
  {
   "cell_type": "code",
   "execution_count": 6,
   "metadata": {},
   "outputs": [
    {
     "name": "stdout",
     "output_type": "stream",
     "text": [
      "Среднее арифметическое: 65.3\n"
     ]
    }
   ],
   "source": [
    "array = [100, 80, 75, 77, 89, 33, 45, 25, 65, 17, 30, 24, 57, 55, 70, 75, 65, 84, 90, 150]\n",
    "n = len(array)\n",
    "array_sum = 0\n",
    "for number in array:\n",
    "    array_sum = array_sum + number\n",
    "x_sr = array_sum/n\n",
    "print('Среднее арифметическое: {}'.format(round(x_sr, 2)))"
   ]
  },
  {
   "cell_type": "code",
   "execution_count": 7,
   "metadata": {},
   "outputs": [],
   "source": [
    "# Среднее квадратичное отклонение"
   ]
  },
  {
   "cell_type": "code",
   "execution_count": 8,
   "metadata": {},
   "outputs": [
    {
     "name": "stdout",
     "output_type": "stream",
     "text": [
      "Среднее квадратичное отклонение: 30.82\n"
     ]
    }
   ],
   "source": [
    "s2_sum = 0\n",
    "for number in array:\n",
    "    s2_sum = s2_sum + ((number - x_sr) ** 2)\n",
    "s2 = sqrt(s2_sum/n)\n",
    "print('Среднее квадратичное отклонение: {}'.format(round(s2, 2)))"
   ]
  },
  {
   "cell_type": "code",
   "execution_count": 9,
   "metadata": {},
   "outputs": [],
   "source": [
    "# Смещенную и несмещенную оценки дисперсий для данной выборки"
   ]
  },
  {
   "cell_type": "code",
   "execution_count": 10,
   "metadata": {},
   "outputs": [
    {
     "name": "stdout",
     "output_type": "stream",
     "text": [
      "Смещенная оценка дисперсии: 950.11\n"
     ]
    }
   ],
   "source": [
    "std_s = (s2_sum/n)\n",
    "print('Смещенная оценка дисперсии: {}'.format(round(std_s, 2)))"
   ]
  },
  {
   "cell_type": "code",
   "execution_count": 11,
   "metadata": {},
   "outputs": [
    {
     "name": "stdout",
     "output_type": "stream",
     "text": [
      "Несмещенная оценка дисперсии: 1000.12\n"
     ]
    }
   ],
   "source": [
    "std_ns = (s2_sum/(n-1))\n",
    "print('Несмещенная оценка дисперсии: {}'.format(round(std_ns, 2)))"
   ]
  },
  {
   "cell_type": "code",
   "execution_count": 12,
   "metadata": {},
   "outputs": [],
   "source": [
    "# Задание 2"
   ]
  },
  {
   "cell_type": "code",
   "execution_count": 13,
   "metadata": {},
   "outputs": [],
   "source": [
    "# В первом ящике находится 8 мячей, из которых 5 - белые. Во втором ящике - 12 мячей, из которых 5 белых. Из первого ящика вытаскивают случайным образом два мяча, из второго - 4. \n",
    "# Какова вероятность того, что 3 мяча белые?"
   ]
  },
  {
   "cell_type": "code",
   "execution_count": 14,
   "metadata": {},
   "outputs": [
    {
     "name": "stdout",
     "output_type": "stream",
     "text": [
      "Вероятность, что 3 мяча белые: 36.87%\n"
     ]
    }
   ],
   "source": [
    "probability = combinations(5,2)*combinations(3,0)/combinations(8,2) * combinations(5,1)*combinations(7,3)/combinations(12,4)+combinations(5,1)*combinations(3,1)/combinations(8,2) * combinations(5,2)*combinations(7,2)/combinations(12,4)+combinations(5,0)*combinations(3,2)/combinations(8,2) * combinations(5,3)*combinations(7,1)/combinations(12,4)\n",
    "print('Вероятность, что 3 мяча белые: {}%'.format(round(probability * 100, 2)))"
   ]
  },
  {
   "cell_type": "code",
   "execution_count": 15,
   "metadata": {},
   "outputs": [],
   "source": [
    "# Задание 3"
   ]
  },
  {
   "cell_type": "code",
   "execution_count": 16,
   "metadata": {},
   "outputs": [],
   "source": [
    "# На соревновании по биатлону один из трех спортсменов стреляет и попадает в мишень. \n",
    "# Вероятность попадания для первого спортсмена равна 0.9, для второго — 0.8, для третьего — 0.6. \n",
    "# Найти вероятность того, что выстрел произведен: \n",
    "# a) первым спортсменом \n",
    "# б) вторым спортсменом \n",
    "# в) третьим спортсменом."
   ]
  },
  {
   "cell_type": "code",
   "execution_count": 17,
   "metadata": {},
   "outputs": [],
   "source": [
    "# Вероятность попадания в мишень"
   ]
  },
  {
   "cell_type": "code",
   "execution_count": 18,
   "metadata": {},
   "outputs": [
    {
     "name": "stdout",
     "output_type": "stream",
     "text": [
      "shoot_probability: 76.67%\n"
     ]
    }
   ],
   "source": [
    "shoot_probability = 0.9 * 1/3 + 0.8 * 1/3 + 0.6 * 1/3\n",
    "print('shoot_probability: {}%'.format(round(shoot_probability * 100, 2)))"
   ]
  },
  {
   "cell_type": "code",
   "execution_count": 19,
   "metadata": {},
   "outputs": [],
   "source": [
    "# Формула Байеса для полной вероятности "
   ]
  },
  {
   "cell_type": "code",
   "execution_count": 20,
   "metadata": {},
   "outputs": [
    {
     "name": "stdout",
     "output_type": "stream",
     "text": [
      "Вероятность того, что выстрел произведен первым спортсменом: 39.13%\n",
      "Вероятность того, что выстрел произведен вторым спортсменом: 34.78%\n",
      "Вероятность того, что выстрел произведен третьим спортсменом: 26.09%\n"
     ]
    }
   ],
   "source": [
    "shooter_1_p = 0.9 * 1/3 / shoot_probability\n",
    "shooter_2_p = 0.8 * 1/3 / shoot_probability\n",
    "shooter_3_p = 0.6 * 1/3 / shoot_probability\n",
    "print('Вероятность того, что выстрел произведен первым спортсменом: {}%'.format(round(shooter_1_p * 100, 2)))\n",
    "print('Вероятность того, что выстрел произведен вторым спортсменом: {}%'.format(round(shooter_2_p * 100, 2)))\n",
    "print('Вероятность того, что выстрел произведен третьим спортсменом: {}%'.format(round(shooter_3_p * 100, 2)))"
   ]
  },
  {
   "cell_type": "code",
   "execution_count": 21,
   "metadata": {},
   "outputs": [],
   "source": [
    "# Задание 4"
   ]
  },
  {
   "cell_type": "code",
   "execution_count": 22,
   "metadata": {},
   "outputs": [],
   "source": [
    "# В университет на факультеты A и B поступило равное количество студентов, а на факультет C студентов поступило столько же, сколько на A и B вместе. \n",
    "# Вероятность того, что студент факультета A сдаст первую сессию, равна 0.8. \n",
    "# Для студента факультета B эта вероятность равна 0.7, а для студента факультета C - 0.9. \n",
    "# Студент сдал первую сессию. Какова вероятность, что он учится: \n",
    "# a) на факультете A \n",
    "# б) на факультете B \n",
    "# в) на факультете C?"
   ]
  },
  {
   "cell_type": "code",
   "execution_count": 23,
   "metadata": {},
   "outputs": [],
   "source": [
    "# Вероятность сдачи экзамена"
   ]
  },
  {
   "cell_type": "code",
   "execution_count": 24,
   "metadata": {},
   "outputs": [
    {
     "name": "stdout",
     "output_type": "stream",
     "text": [
      "exam_probability: 82.5%\n"
     ]
    }
   ],
   "source": [
    "exam_probability = 0.8 * 1/4 + 0.7 * 1/4 + 0.9 * 2/4\n",
    "print('exam_probability: {}%'.format(round(exam_probability * 100, 2)))"
   ]
  },
  {
   "cell_type": "code",
   "execution_count": 25,
   "metadata": {},
   "outputs": [],
   "source": [
    "# Формула Байеса для полной вероятности"
   ]
  },
  {
   "cell_type": "code",
   "execution_count": 26,
   "metadata": {},
   "outputs": [
    {
     "name": "stdout",
     "output_type": "stream",
     "text": [
      "Вероятность того, что студент факультета а сдал экзамен: 24.24%\n",
      "Вероятность того, что студент факультета b сдал экзамен: 21.21%\n",
      "Вероятность того, что студент факультета c сдал экзамен: 54.55%\n"
     ]
    }
   ],
   "source": [
    "exam_a_p = 0.8 * 1/4 / exam_probability\n",
    "exam_b_p = 0.7 * 1/4 / exam_probability\n",
    "exam_c_p = 0.9 * 2/4 / exam_probability\n",
    "print('Вероятность того, что студент факультета а сдал экзамен: {}%'.format(round(exam_a_p * 100, 2)))\n",
    "print('Вероятность того, что студент факультета b сдал экзамен: {}%'.format(round(exam_b_p * 100, 2)))\n",
    "print('Вероятность того, что студент факультета c сдал экзамен: {}%'.format(round(exam_c_p * 100, 2)))"
   ]
  },
  {
   "cell_type": "code",
   "execution_count": 27,
   "metadata": {},
   "outputs": [],
   "source": [
    "# Задание 5"
   ]
  },
  {
   "cell_type": "code",
   "execution_count": 28,
   "metadata": {},
   "outputs": [],
   "source": [
    "# Устройство состоит из трех деталей. \n",
    "# Для первой детали вероятность выйти из строя в первый месяц равна 0.1, для второй - 0.2, для третьей - 0.25. \n",
    "# Какова вероятность того, что в первый месяц выйдут из строя: \n",
    "# а) все детали \n",
    "# б) только две детали \n",
    "# в) хотя бы одна деталь \n",
    "# г) от одной до двух деталей?"
   ]
  },
  {
   "cell_type": "code",
   "execution_count": 29,
   "metadata": {},
   "outputs": [],
   "source": [
    "# Вероятность того, что в первый месяц выйдут из строя все детали"
   ]
  },
  {
   "cell_type": "code",
   "execution_count": 30,
   "metadata": {},
   "outputs": [
    {
     "name": "stdout",
     "output_type": "stream",
     "text": [
      "tool_dam_probability: 0.5%\n"
     ]
    }
   ],
   "source": [
    "tool_dam_probability = 0.1 * 0.2 * 0.25\n",
    "print('tool_dam_probability: {}%'.format(round(tool_dam_probability * 100, 2)))"
   ]
  },
  {
   "cell_type": "code",
   "execution_count": 31,
   "metadata": {},
   "outputs": [],
   "source": [
    "# Вероятность того, что в первый месяц выйдут из строя только две детали"
   ]
  },
  {
   "cell_type": "code",
   "execution_count": 32,
   "metadata": {},
   "outputs": [
    {
     "name": "stdout",
     "output_type": "stream",
     "text": [
      "two_tools_probability: 8.5%\n"
     ]
    }
   ],
   "source": [
    "two_tools_probability = (tool_dam_probability) + (0.1 * 0.2 * (1 - 0.25)) + (0.1 * (1 - 0.2) * 0.25) + ((1 - 0.1) * 0.2 * 0.25)\n",
    "print('two_tools_probability: {}%'.format(round(two_tools_probability * 100, 2)))"
   ]
  },
  {
   "cell_type": "code",
   "execution_count": 33,
   "metadata": {},
   "outputs": [],
   "source": [
    "# Вероятность того, что в первый месяц из строя выйдет из строя хотя бы одна деталь"
   ]
  },
  {
   "cell_type": "code",
   "execution_count": 34,
   "metadata": {},
   "outputs": [
    {
     "name": "stdout",
     "output_type": "stream",
     "text": [
      "one_tool_atl_probability: 46.0%\n"
     ]
    }
   ],
   "source": [
    "one_tool_atl_probability = 1 - ((1 - 0.1) * (1 - 0.2) * (1 - 0.25))\n",
    "print('one_tool_atl_probability: {}%'.format(round(one_tool_atl_probability * 100, 2)))"
   ]
  },
  {
   "cell_type": "code",
   "execution_count": 35,
   "metadata": {},
   "outputs": [],
   "source": [
    "# Вероятность того, что в первый месяц из строя выйдет из строя от одной до двух деталей"
   ]
  },
  {
   "cell_type": "code",
   "execution_count": 36,
   "metadata": {},
   "outputs": [
    {
     "name": "stdout",
     "output_type": "stream",
     "text": [
      "tools_one_two_probability: 46.0%\n"
     ]
    }
   ],
   "source": [
    "tools_one_two_probability = 0.085 + 0.1 * 0.8 * 0.75 + 0.9 * 0.2 * 0.75 + 0.9 * 0.8 * 0.25\n",
    "print('tools_one_two_probability: {}%'.format(round(tools_one_two_probability * 100, 2)))"
   ]
  }
 ],
 "metadata": {
  "kernelspec": {
   "display_name": "Python 3",
   "language": "python",
   "name": "python3"
  },
  "language_info": {
   "codemirror_mode": {
    "name": "ipython",
    "version": 3
   },
   "file_extension": ".py",
   "mimetype": "text/x-python",
   "name": "python",
   "nbconvert_exporter": "python",
   "pygments_lexer": "ipython3",
   "version": "3.8.5"
  }
 },
 "nbformat": 4,
 "nbformat_minor": 4
}
