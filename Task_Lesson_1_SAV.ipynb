{
 "cells": [
  {
   "cell_type": "code",
   "execution_count": 19,
   "metadata": {},
   "outputs": [],
   "source": [
    "from math import factorial\n",
    "import numpy as np"
   ]
  },
  {
   "cell_type": "code",
   "execution_count": 20,
   "metadata": {},
   "outputs": [],
   "source": [
    "def arrangements(n):\n",
    "    return factorial(n)\n",
    "\n",
    "def placements(n, k):\n",
    "    return factorial(n)/factorial(n-k)\n",
    "\n",
    "def combinations(n,k):\n",
    "    return factorial(n)/(factorial(k) * factorial(n-k))"
   ]
  },
  {
   "cell_type": "code",
   "execution_count": 21,
   "metadata": {},
   "outputs": [],
   "source": [
    "# Задание 1"
   ]
  },
  {
   "cell_type": "code",
   "execution_count": 22,
   "metadata": {},
   "outputs": [],
   "source": [
    "#Из колоды в 52 карты извлекаются случайным образом 4 карты. \n",
    "#a) Найти вероятность того, что все карты – крести. \n",
    "#б) Найти вероятность, что среди 4-х карт окажется хотя бы один туз."
   ]
  },
  {
   "cell_type": "code",
   "execution_count": 23,
   "metadata": {},
   "outputs": [
    {
     "name": "stdout",
     "output_type": "stream",
     "text": [
      "0.26%\n"
     ]
    }
   ],
   "source": [
    "# а) \n",
    "# количество вариантов достать 4 карты из колоды\n",
    "cards_combo4 = combinations(52,4)\n",
    "\n",
    "# все крести\n",
    "all_clubs_combo4 = combinations(13,4)\n",
    "\n",
    "# вероятность благоприятного исхода событий\n",
    "all_clubs_combo4_prob = all_clubs_combo4 / cards_combo4\n",
    "\n",
    "print('{}%'.format(round(all_clubs_combo4_prob * 100, 2)))"
   ]
  },
  {
   "cell_type": "code",
   "execution_count": 24,
   "metadata": {},
   "outputs": [
    {
     "name": "stdout",
     "output_type": "stream",
     "text": [
      "28.13%\n"
     ]
    }
   ],
   "source": [
    "# б) \n",
    "# число комбинаций без тузов\n",
    "aces_zero_combo = combinations(48,4)\n",
    "\n",
    "# хотя один туз\n",
    "aces_not_zero_combo = 1 - aces_zero_combo / cards_combo4\n",
    "\n",
    "print('{}%'.format(round(aces_not_zero_combo * 100, 2)))"
   ]
  },
  {
   "cell_type": "code",
   "execution_count": 25,
   "metadata": {},
   "outputs": [],
   "source": [
    "# Задание 2"
   ]
  },
  {
   "cell_type": "code",
   "execution_count": 26,
   "metadata": {},
   "outputs": [],
   "source": [
    "# На входной двери подъезда установлен кодовый замок, содержащий десять кнопок с цифрами от 0 до 9. \n",
    "# Код содержит три цифры, которые нужно нажать одновременно. \n",
    "# Какова вероятность того, что человек, не знающий код, откроет дверь с первой попытки?"
   ]
  },
  {
   "cell_type": "code",
   "execution_count": 27,
   "metadata": {},
   "outputs": [
    {
     "name": "stdout",
     "output_type": "stream",
     "text": [
      "0.83%\n"
     ]
    }
   ],
   "source": [
    "# число комбинаций для 3 цифр из 10\n",
    "buttons_combo3 = combinations(10, 3)\n",
    "\n",
    "# благоприятных исходов \n",
    "attempts = 1\n",
    "\n",
    "# вероятность открыть дверь с первой попытки\n",
    "single_chance_prob = attempts / buttons_combo3\n",
    "\n",
    "print('{}%'.format(round(single_chance_prob * 100, 2)))"
   ]
  },
  {
   "cell_type": "code",
   "execution_count": 28,
   "metadata": {},
   "outputs": [],
   "source": [
    "# Задание 3"
   ]
  },
  {
   "cell_type": "code",
   "execution_count": 29,
   "metadata": {},
   "outputs": [],
   "source": [
    "# В ящике имеется 15 деталей, из которых 9 окрашены. \n",
    "# Рабочий случайным образом извлекает 3 детали. \n",
    "# Какова вероятность того, что все извлеченные детали окрашены?"
   ]
  },
  {
   "cell_type": "code",
   "execution_count": 30,
   "metadata": {},
   "outputs": [
    {
     "name": "stdout",
     "output_type": "stream",
     "text": [
      "18.46%\n"
     ]
    }
   ],
   "source": [
    "# число комбинаций вытащить 3 детали из 15\n",
    "parts_combo3 = combinations(15,3)\n",
    "\n",
    "# число комбинаций вытащить 3 детали из окрашенных\n",
    "colored_parts_combo = combinations(9,3)\n",
    "\n",
    "# вероятность благоприятного исхода событий\n",
    "colored_parts_combo_prob = colored_parts_combo / parts_combo3\n",
    "\n",
    "print('{}%'.format(round(colored_parts_combo_prob * 100, 2)))"
   ]
  },
  {
   "cell_type": "code",
   "execution_count": 31,
   "metadata": {},
   "outputs": [],
   "source": [
    "# Задание 3"
   ]
  },
  {
   "cell_type": "code",
   "execution_count": 32,
   "metadata": {},
   "outputs": [],
   "source": [
    "# В лотерее 100 билетов. \n",
    "# Из них 2 выигрышных. \n",
    "# Какова вероятность того, что 2 приобретенных билета окажутся выигрышными?"
   ]
  },
  {
   "cell_type": "code",
   "execution_count": 33,
   "metadata": {},
   "outputs": [
    {
     "name": "stdout",
     "output_type": "stream",
     "text": [
      "0.02%\n"
     ]
    }
   ],
   "source": [
    "# количество вариантов вытащить 2 из 100\n",
    "tickets_combo2 = combinations(100,2)\n",
    "\n",
    "# вариантов выбрать 2 выигрышных\n",
    "win_tickets_combo2 = combinations(2,2)\n",
    "\n",
    "# вероятность благоприятного исхода событий\n",
    "win_tickets_combo2_prob = win_tickets_combo2 / tickets_combo2\n",
    "\n",
    "print('{}%'.format(round(win_tickets_combo2_prob * 100, 2)))"
   ]
  }
 ],
 "metadata": {
  "kernelspec": {
   "display_name": "Python 3",
   "language": "python",
   "name": "python3"
  },
  "language_info": {
   "codemirror_mode": {
    "name": "ipython",
    "version": 3
   },
   "file_extension": ".py",
   "mimetype": "text/x-python",
   "name": "python",
   "nbconvert_exporter": "python",
   "pygments_lexer": "ipython3",
   "version": "3.8.5"
  }
 },
 "nbformat": 4,
 "nbformat_minor": 4
}
