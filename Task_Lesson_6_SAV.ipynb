{
 "cells": [
  {
   "cell_type": "code",
   "execution_count": 26,
   "metadata": {},
   "outputs": [],
   "source": [
    "from math import sqrt\n",
    "import numpy as np\n",
    "import pandas as pd\n",
    "import scipy.stats as stats"
   ]
  },
  {
   "cell_type": "code",
   "execution_count": 27,
   "metadata": {},
   "outputs": [],
   "source": [
    "# Задание 1"
   ]
  },
  {
   "cell_type": "code",
   "execution_count": 28,
   "metadata": {},
   "outputs": [],
   "source": [
    "# Даны значения величины заработной платы заемщиков банка (zp) и значения их поведенческого кредитного скоринга (ks):\n",
    "# zp = [35, 45, 190, 200, 40, 70, 54, 150, 120, 110],\n",
    "# ks = [401, 574, 874, 919, 459, 739, 653, 902, 746, 832].\n",
    "# Найдите ковариацию этих двух величин с помощью элементарных действий, а затем с помощью функции cov из numpy\n",
    "# Полученные значения должны быть равны.\n",
    "# Найдите коэффициент корреляции Пирсона с помощью ковариации и среднеквадратичных отклонений двух признаков,\n",
    "# а затем с использованием функций из библиотек numpy и pandas."
   ]
  },
  {
   "cell_type": "code",
   "execution_count": 29,
   "metadata": {},
   "outputs": [
    {
     "name": "stdout",
     "output_type": "stream",
     "text": [
      "cov_e: 9157.84\n"
     ]
    }
   ],
   "source": [
    "zp = np.array([35, 45, 190, 200, 40, 70, 54, 150, 120, 110])\n",
    "ks = np.array([401, 574, 874, 919, 459, 739, 653, 902, 746, 832])\n",
    "\n",
    "cov_e = np.mean(zp*ks) - (np.mean(zp) * np.mean(ks))\n",
    "print(\"cov_e: {}\".format(round(cov_e, 2)))"
   ]
  },
  {
   "cell_type": "code",
   "execution_count": 30,
   "metadata": {},
   "outputs": [
    {
     "name": "stdout",
     "output_type": "stream",
     "text": [
      "cov_f: [[ 3494.64  9157.84]\n",
      " [ 9157.84 30468.89]]\n"
     ]
    }
   ],
   "source": [
    "cov_f = np.cov(zp, ks, ddof=0)\n",
    "print(\"cov_f: {}\".format(cov_f, 2))"
   ]
  },
  {
   "cell_type": "code",
   "execution_count": 31,
   "metadata": {},
   "outputs": [
    {
     "name": "stdout",
     "output_type": "stream",
     "text": [
      "pearson: 0.88749\n"
     ]
    }
   ],
   "source": [
    "pearson = cov_e/(np.std(zp) * np.std(ks))\n",
    "print(\"pearson: {}\".format(round(pearson, 5)))"
   ]
  },
  {
   "cell_type": "code",
   "execution_count": 32,
   "metadata": {},
   "outputs": [
    {
     "data": {
      "text/plain": [
       "array([[1.        , 0.88749009],\n",
       "       [0.88749009, 1.        ]])"
      ]
     },
     "execution_count": 32,
     "metadata": {},
     "output_type": "execute_result"
    }
   ],
   "source": [
    "pearson_np = np.corrcoef(zp, ks)\n",
    "pearson_np"
   ]
  },
  {
   "cell_type": "code",
   "execution_count": 33,
   "metadata": {},
   "outputs": [
    {
     "name": "stdout",
     "output_type": "stream",
     "text": [
      "pearson_pd: 0.88749\n"
     ]
    }
   ],
   "source": [
    "zp1 = pd.Series([35, 45, 190, 200, 40, 70, 54, 150, 120, 110])\n",
    "ks1 = pd.Series([401, 574, 874, 919, 459, 739, 653, 902, 746, 832])\n",
    "pearson_pd = zp1.corr(ks1, method=\"pearson\")\n",
    "print(\"pearson_pd: {}\".format(round(pearson_pd, 5)))"
   ]
  },
  {
   "cell_type": "code",
   "execution_count": 34,
   "metadata": {},
   "outputs": [],
   "source": [
    "# Задание 2"
   ]
  },
  {
   "cell_type": "code",
   "execution_count": 35,
   "metadata": {},
   "outputs": [],
   "source": [
    "# Измерены значения IQ выборки студентов,обучающихся в местных технических вузах:\n",
    "# 131, 125, 115, 122, 131, 115, 107, 99, 125, 111.\n",
    "# Известно, что в генеральной совокупности IQ распределен нормально.\n",
    "# Найдите доверительный интервал для математического ожидания с надежностью 0.95. "
   ]
  },
  {
   "cell_type": "code",
   "execution_count": 36,
   "metadata": {},
   "outputs": [
    {
     "name": "stdout",
     "output_type": "stream",
     "text": [
      "Доверительный интервал для математического ожидания с надежностью 0.95: [110.55608365158724, 125.64391634841274]\n"
     ]
    }
   ],
   "source": [
    "iq = [131, 125, 115, 122, 131, 115, 107, 99, 125, 111]\n",
    "m = np.mean(iq)\n",
    "sigma = np.std(iq, ddof=1)\n",
    "\n",
    "# критерий Стьюдента и интервал:\n",
    "\n",
    "t = abs(stats.t.ppf((1 - 0.95) / 2, len(iq) - 1))\n",
    "interval_left = m - t * sigma / sqrt(len(iq))\n",
    "interval_right = m + t * sigma / sqrt(len(iq))\n",
    "interval = [interval_left, interval_right]\n",
    "\n",
    "print(\"Доверительный интервал для математического ожидания с надежностью 0.95: {}\".format(interval, 2))"
   ]
  },
  {
   "cell_type": "code",
   "execution_count": 37,
   "metadata": {},
   "outputs": [],
   "source": [
    "# Задание 3"
   ]
  },
  {
   "cell_type": "code",
   "execution_count": 38,
   "metadata": {},
   "outputs": [],
   "source": [
    "# Известно, что рост футболистов в сборной распределен нормально с дисперсией генеральной совокупности, равной 25 кв.см. \n",
    "# Объем выборки равен 27, среднее выборочное составляет 174.2. \n",
    "# Найдите доверительный интервал для математического ожидания с надежностью 0.95."
   ]
  },
  {
   "cell_type": "code",
   "execution_count": 39,
   "metadata": {},
   "outputs": [
    {
     "name": "stdout",
     "output_type": "stream",
     "text": [
      "Доверительный интервал для математического ожидания с надежностью 0.95: [172.31398912064722, 176.08601087935276]\n"
     ]
    }
   ],
   "source": [
    "d = 25\n",
    "sigma = sqrt(d)\n",
    "n = 27\n",
    "m = 174.2\n",
    "\n",
    "# используем z критерий\n",
    "alpha = 0.05/2\n",
    "t = 1.96\n",
    "interval_left = m - t * sigma / sqrt(n)\n",
    "interval_right = m + t * sigma / sqrt(n)\n",
    "interval = [interval_left, interval_right]\n",
    "\n",
    "print(\"Доверительный интервал для математического ожидания с надежностью 0.95: {}\".format(interval, 2))"
   ]
  }
 ],
 "metadata": {
  "kernelspec": {
   "display_name": "Python 3",
   "language": "python",
   "name": "python3"
  },
  "language_info": {
   "codemirror_mode": {
    "name": "ipython",
    "version": 3
   },
   "file_extension": ".py",
   "mimetype": "text/x-python",
   "name": "python",
   "nbconvert_exporter": "python",
   "pygments_lexer": "ipython3",
   "version": "3.8.5"
  }
 },
 "nbformat": 4,
 "nbformat_minor": 4
}
