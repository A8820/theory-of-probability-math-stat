{
 "cells": [
  {
   "cell_type": "code",
   "execution_count": 1,
   "metadata": {},
   "outputs": [],
   "source": [
    "from math import sqrt\n",
    "import numpy as np"
   ]
  },
  {
   "cell_type": "code",
   "execution_count": 2,
   "metadata": {},
   "outputs": [],
   "source": [
    "# Задание 1"
   ]
  },
  {
   "cell_type": "code",
   "execution_count": 3,
   "metadata": {},
   "outputs": [],
   "source": [
    "# Случайная непрерывная величина A имеет равномерное распределение на промежутке (200, 800].\n",
    "# Найдите ее среднее значение и дисперсию."
   ]
  },
  {
   "cell_type": "code",
   "execution_count": 4,
   "metadata": {},
   "outputs": [
    {
     "name": "stdout",
     "output_type": "stream",
     "text": [
      "Среднее значение: 500.0\n",
      "Дисперсия: 30000.0\n"
     ]
    }
   ],
   "source": [
    "a = 200\n",
    "b = 800\n",
    "\n",
    "avg = (a + b) / 2\n",
    "dsprsn = (b - a)**2 / 12\n",
    "\n",
    "print(\"Среднее значение: {}\".format(round(avg, 2)))\n",
    "print(\"Дисперсия: {}\".format(round(dsprsn, 2)))"
   ]
  },
  {
   "cell_type": "code",
   "execution_count": 5,
   "metadata": {},
   "outputs": [],
   "source": [
    "# Задание 2"
   ]
  },
  {
   "cell_type": "code",
   "execution_count": 6,
   "metadata": {},
   "outputs": [],
   "source": [
    "# О случайной непрерывной равномерно распределенной величине B известно, что ее дисперсия равна 0.2.\n",
    "# Можно ли найти правую границу величины B и ее среднее значение зная, что левая граница равна 0.5?\n",
    "# Если да, найдите ее."
   ]
  },
  {
   "cell_type": "code",
   "execution_count": 7,
   "metadata": {},
   "outputs": [
    {
     "name": "stdout",
     "output_type": "stream",
     "text": [
      "Значение b: 2.05\n"
     ]
    }
   ],
   "source": [
    "b = np.sqrt(0.2 * 12) + 0.5\n",
    "\n",
    "print(\"Значение b: {}\".format(round(b, 2)))"
   ]
  },
  {
   "cell_type": "code",
   "execution_count": 8,
   "metadata": {},
   "outputs": [
    {
     "name": "stdout",
     "output_type": "stream",
     "text": [
      "Среднее значение: 1.27\n"
     ]
    }
   ],
   "source": [
    "avg  = (0.5 + b) / 2\n",
    "\n",
    "print(\"Среднее значение: {}\".format(round(avg, 2)))"
   ]
  },
  {
   "cell_type": "code",
   "execution_count": 9,
   "metadata": {},
   "outputs": [],
   "source": [
    "# Задание 3"
   ]
  },
  {
   "cell_type": "code",
   "execution_count": 16,
   "metadata": {},
   "outputs": [],
   "source": [
    "# Непрерывная случайная величина X распределена нормально и задана плотностью распределения\n",
    "# f(x) = (1 / (4 * sqrt(2*pi))) * (exp(-((x+2)**2) / 32))\n",
    "# Найдите:\n",
    "# а) M(X)\n",
    "# б) D(X)\n",
    "# в) std(X) (среднее квадратичное отклонение)"
   ]
  },
  {
   "cell_type": "code",
   "execution_count": 10,
   "metadata": {},
   "outputs": [
    {
     "name": "stdout",
     "output_type": "stream",
     "text": [
      "Среднее значение M(x): -2\n",
      "Дисперсия D(x): 16\n",
      "Стандартное отклонение std(x): 4\n"
     ]
    }
   ],
   "source": [
    "print(\"Среднее значение M(x): {}\".format(round(-2, 2)))\n",
    "\n",
    "print(\"Дисперсия D(x): {}\".format(round(16, 2)))\n",
    "\n",
    "print(\"Стандартное отклонение std(x): {}\".format(round(4, 2)))"
   ]
  },
  {
   "cell_type": "code",
   "execution_count": 13,
   "metadata": {},
   "outputs": [],
   "source": [
    "# Задание 4"
   ]
  },
  {
   "cell_type": "code",
   "execution_count": 11,
   "metadata": {},
   "outputs": [],
   "source": [
    "# Рост взрослого населения города X имеет нормальное распределение.\n",
    "# Причем, средний рост равен 174 см, а среднее квадратичное отклонение равно 8 см.\n",
    "# Какова вероятность того, что случайным образом выбранный взрослый человек имеет рост:\n",
    "# а) больше 182 см\n",
    "# б) больше 190 см\n",
    "# в) от 166 см до 190 см\n",
    "# г) от 166 см до 182 см\n",
    "# д) от 158 см до 190 см\n",
    "# е) не выше 150 см или не ниже 190 см\n",
    "# ё) не выше 150 см или не ниже 198 см\n",
    "# ж) ниже 166 см."
   ]
  },
  {
   "cell_type": "code",
   "execution_count": 12,
   "metadata": {},
   "outputs": [
    {
     "name": "stdout",
     "output_type": "stream",
     "text": [
      "а) больше 182 см: 0.16\n",
      "б) больше 190 см: 0.02\n",
      "в) от 166 см до 190 см: 0.82\n",
      "г) от 166 см до 182 см: 0.68\n",
      "д) от 158 см до 190 см: 0.95\n",
      "е) не выше 150 см или не ниже 190 см: 0.02\n",
      "ё) не выше 150 см или не ниже 198 см: 0.0\n",
      "ж) ниже 166 см: 0.16\n"
     ]
    }
   ],
   "source": [
    "# a) Z = (182 - 174) / 8 = 1\n",
    "P1 = 1 - 0.84134\n",
    "# б) Z = (190 - 174) / 8 = 2\n",
    "P2 = 1 - 0.97725\n",
    "# в) L = (166 - 174) / 8 = -1, R = (190 - 174) / 8 = 2\n",
    "P3 = 0.97725 - 0.15866\n",
    "# г) L = (166 - 174) / 8 = -1, R = (182 - 174) / 8 = 1\n",
    "P4 = 0.84134 - 0.15866\n",
    "# д) L = (158 - 174) / 8 = -2, R = (190 - 174) / 8 = 2\n",
    "P5 = 0.97725 - 0.02275\n",
    "# е) L = (150 - 174) / 8 = -3, R = (190 - 174) / 8 = 2\n",
    "P6 = 1 - 0.97725 + 0.00135\n",
    "# ё) L = (150 - 174) / 8 = -3, R = (198 - 174) / 8 = 3\n",
    "P7 = 1 - 0.99865 + 0.00135\n",
    "# ж) Z = (166 - 174) / 8 = -1\n",
    "P8 = 0.15866\n",
    "\n",
    "print(\"а) больше 182 см: {}\".format(round(P1, 2)))\n",
    "print(\"б) больше 190 см: {}\".format(round(P2, 2)))\n",
    "print(\"в) от 166 см до 190 см: {}\".format(round(P3, 2)))\n",
    "print(\"г) от 166 см до 182 см: {}\".format(round(P4, 2)))\n",
    "print(\"д) от 158 см до 190 см: {}\".format(round(P5, 2)))\n",
    "print(\"е) не выше 150 см или не ниже 190 см: {}\".format(round(P6, 2)))\n",
    "print(\"ё) не выше 150 см или не ниже 198 см: {}\".format(round(P7, 2)))\n",
    "print(\"ж) ниже 166 см: {}\".format(round(P8, 2)))"
   ]
  },
  {
   "cell_type": "code",
   "execution_count": 14,
   "metadata": {},
   "outputs": [],
   "source": [
    "# Задание 5"
   ]
  },
  {
   "cell_type": "code",
   "execution_count": 15,
   "metadata": {},
   "outputs": [],
   "source": [
    "# На сколько сигм (средних квадратичных отклонений) отклоняется рост человека, равный 190 см, от\n",
    "# математического ожидания роста в популяции, в которой M(X) = 178 см и D(X) = 25 кв.см?"
   ]
  },
  {
   "cell_type": "code",
   "execution_count": 17,
   "metadata": {},
   "outputs": [
    {
     "name": "stdout",
     "output_type": "stream",
     "text": [
      "Отклонение, сигм: 2.4\n"
     ]
    }
   ],
   "source": [
    "M = 178\n",
    "D = 25\n",
    "std = sqrt(D)\n",
    "sigma = (190 - M)/std\n",
    "\n",
    "print(\"Отклонение, сигм: {}\".format(round(sigma, 2)))"
   ]
  }
 ],
 "metadata": {
  "kernelspec": {
   "display_name": "Python 3",
   "language": "python",
   "name": "python3"
  },
  "language_info": {
   "codemirror_mode": {
    "name": "ipython",
    "version": 3
   },
   "file_extension": ".py",
   "mimetype": "text/x-python",
   "name": "python",
   "nbconvert_exporter": "python",
   "pygments_lexer": "ipython3",
   "version": "3.8.5"
  }
 },
 "nbformat": 4,
 "nbformat_minor": 4
}
